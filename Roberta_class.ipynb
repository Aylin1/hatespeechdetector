{
 "cells": [
  {
   "cell_type": "code",
   "execution_count": 1,
   "metadata": {},
   "outputs": [
    {
     "name": "stderr",
     "output_type": "stream",
     "text": [
      "C:\\Users\\AylinGülüm\\AppData\\Local\\Temp\\ipykernel_16400\\1621238366.py:44: MatplotlibDeprecationWarning: The seaborn styles shipped by Matplotlib are deprecated since 3.6, as they no longer correspond to the styles shipped by seaborn. However, they will remain available as 'seaborn-v0_8-<style>'. Alternatively, directly use the seaborn API instead.\n",
      "  plt.style.use(\"seaborn-whitegrid\")\n"
     ]
    },
    {
     "data": {
      "text/plain": [
       "<Figure size 432x288 with 0 Axes>"
      ]
     },
     "metadata": {},
     "output_type": "display_data"
    }
   ],
   "source": [
    "#general purpose packages\n",
    "import numpy as np\n",
    "import pandas as pd\n",
    "import tensorflow as tf\n",
    "import matplotlib.pyplot as plt\n",
    "import seaborn as sns\n",
    "\n",
    "#data processing\n",
    "import re, string\n",
    "import emoji\n",
    "import nltk\n",
    "\n",
    "from sklearn import preprocessing\n",
    "from imblearn.over_sampling import RandomOverSampler\n",
    "from sklearn.model_selection import train_test_split\n",
    "\n",
    "\n",
    "#Naive Bayes\n",
    "from sklearn.feature_extraction.text import CountVectorizer\n",
    "from sklearn.feature_extraction.text import TfidfTransformer\n",
    "from sklearn.naive_bayes import MultinomialNB\n",
    "\n",
    "#transformers\n",
    "from transformers import BertTokenizerFast\n",
    "from transformers import TFBertModel\n",
    "from transformers import RobertaTokenizerFast\n",
    "from transformers import TFRobertaModel\n",
    "\n",
    "#keras\n",
    "import tensorflow as tf\n",
    "from tensorflow import keras\n",
    "\n",
    "\n",
    "#metrics\n",
    "from sklearn.metrics import accuracy_score, f1_score\n",
    "from sklearn.metrics import classification_report, confusion_matrix\n",
    "\n",
    "#set seed for reproducibility\n",
    "seed=42\n",
    "\n",
    "#set style for plots\n",
    "sns.set_style(\"whitegrid\")\n",
    "sns.despine()\n",
    "plt.style.use(\"seaborn-whitegrid\")\n",
    "plt.rc(\"figure\", autolayout=True)\n",
    "plt.rc(\"axes\", labelweight=\"bold\", labelsize=\"large\", titleweight=\"bold\", titlepad=10)\n"
   ]
  },
  {
   "cell_type": "markdown",
   "metadata": {},
   "source": [
    "# Loading the data"
   ]
  },
  {
   "cell_type": "code",
   "execution_count": 2,
   "metadata": {},
   "outputs": [],
   "source": [
    "# Cargar el dataset\n",
    "df = pd.read_csv('twits_25k_balanced.csv')  # Reemplaza 'tu_archivo.csv' con el nombre de tu archivo"
   ]
  },
  {
   "cell_type": "code",
   "execution_count": 3,
   "metadata": {},
   "outputs": [],
   "source": [
    "\n",
    "import numpy as np\n",
    "import pandas as pd\n",
    "from sklearn.model_selection import train_test_split\n",
    "from sklearn.metrics import confusion_matrix, classification_report\n",
    "from transformers import RobertaTokenizer, RobertaForSequenceClassification\n",
    "from tensorflow.keras.preprocessing.sequence import pad_sequences  # Correct import statement\n",
    "from tensorflow.keras.utils import to_categorical"
   ]
  },
  {
   "cell_type": "code",
   "execution_count": 4,
   "metadata": {},
   "outputs": [
    {
     "name": "stderr",
     "output_type": "stream",
     "text": [
      "Some weights of RobertaForSequenceClassification were not initialized from the model checkpoint at roberta-base and are newly initialized: ['classifier.dense.bias', 'classifier.out_proj.bias', 'classifier.out_proj.weight', 'classifier.dense.weight']\n",
      "You should probably TRAIN this model on a down-stream task to be able to use it for predictions and inference.\n"
     ]
    }
   ],
   "source": [
    "# Split the data into training and testing sets\n",
    "train_data, test_data = train_test_split(df, test_size=0.2, random_state=42)\n",
    "\n",
    "# Initialize the RoBERTa tokenizer and model\n",
    "tokenizer = RobertaTokenizer.from_pretrained('roberta-base')\n",
    "model = RobertaForSequenceClassification.from_pretrained('roberta-base', num_labels=3)\n"
   ]
  },
  {
   "cell_type": "code",
   "execution_count": 5,
   "metadata": {},
   "outputs": [],
   "source": [
    "# Tokenize and pad the input sequences\n",
    "def tokenize_roberta(data, max_len=128):\n",
    "    input_ids = []\n",
    "    attention_masks = []\n",
    "    for text in data['tweet']:\n",
    "        encoded = tokenizer.encode_plus(\n",
    "            text,\n",
    "            add_special_tokens=True,\n",
    "            max_length=max_len,\n",
    "            truncation=True,  # Add truncation to handle longer sequences\n",
    "            padding='max_length',\n",
    "            return_attention_mask=True,\n",
    "            return_tensors='tf'  # Use 'tf' to get TensorFlow tensors\n",
    "        )\n",
    "        input_ids.append(encoded['input_ids'])\n",
    "        attention_masks.append(encoded['attention_mask'])\n",
    "    return np.vstack(input_ids), np.vstack(attention_masks)\n",
    "\n",
    "# Tokenize the training and testing data\n",
    "train_input_ids, train_attention_masks = tokenize_roberta(train_data)\n",
    "test_input_ids, test_attention_masks = tokenize_roberta(test_data)\n",
    "\n",
    "# Convert labels to one-hot encoded format\n",
    "y_train = to_categorical(train_data['label'], num_classes=3)\n",
    "y_test = to_categorical(test_data['label'], num_classes=3)\n",
    "\n"
   ]
  },
  {
   "cell_type": "code",
   "execution_count": 6,
   "metadata": {},
   "outputs": [
    {
     "name": "stderr",
     "output_type": "stream",
     "text": [
      "Some weights of RobertaForSequenceClassification were not initialized from the model checkpoint at roberta-base and are newly initialized: ['classifier.dense.bias', 'classifier.out_proj.bias', 'classifier.out_proj.weight', 'classifier.dense.weight']\n",
      "You should probably TRAIN this model on a down-stream task to be able to use it for predictions and inference.\n"
     ]
    }
   ],
   "source": [
    "import torch\n",
    "import torch.nn as nn\n",
    "import torch.optim as optim\n",
    "from torch.utils.data import DataLoader, TensorDataset\n",
    "\n",
    "# Rest of the imports...\n",
    "\n",
    "# Convert data to PyTorch tensors\n",
    "train_input_ids = torch.tensor(train_input_ids)\n",
    "train_attention_masks = torch.tensor(train_attention_masks)\n",
    "y_train = torch.tensor(y_train, dtype=torch.float32)\n",
    "\n",
    "test_input_ids = torch.tensor(test_input_ids)\n",
    "test_attention_masks = torch.tensor(test_attention_masks)\n",
    "y_test = torch.tensor(y_test, dtype=torch.float32)\n",
    "\n",
    "# Create DataLoader for training and testing\n",
    "train_dataset = TensorDataset(train_input_ids, train_attention_masks, y_train)\n",
    "test_dataset = TensorDataset(test_input_ids, test_attention_masks, y_test)\n",
    "\n",
    "train_dataloader = DataLoader(train_dataset, batch_size=32, shuffle=True)\n",
    "test_dataloader = DataLoader(test_dataset, batch_size=32)\n",
    "\n",
    "# Define the model (RoBERTaForSequenceClassification)\n",
    "class RoBERTaClassifier(nn.Module):\n",
    "    def __init__(self, num_labels):\n",
    "        super(RoBERTaClassifier, self).__init__()\n",
    "        self.roberta = RobertaForSequenceClassification.from_pretrained('roberta-base', num_labels=num_labels)\n",
    "\n",
    "    def forward(self, input_ids, attention_mask):\n",
    "        output = self.roberta(input_ids=input_ids, attention_mask=attention_mask)\n",
    "        return output.logits\n",
    "\n",
    "model = RoBERTaClassifier(num_labels=3)\n",
    "\n",
    "# Define the loss function and optimizer\n",
    "criterion = nn.CrossEntropyLoss()\n",
    "optimizer = optim.AdamW(model.parameters(), lr=2e-5)\n",
    "\n",
    "\n"
   ]
  },
  {
   "cell_type": "code",
   "execution_count": 7,
   "metadata": {},
   "outputs": [
    {
     "name": "stdout",
     "output_type": "stream",
     "text": [
      "Confusion Matrix:\n",
      "[[231  50  15]\n",
      " [ 41 246   7]\n",
      " [ 37  27 204]]\n",
      "\n",
      "Classification Report:\n",
      "              precision    recall  f1-score   support\n",
      "\n",
      "           0       0.75      0.78      0.76       296\n",
      "           1       0.76      0.84      0.80       294\n",
      "           2       0.90      0.76      0.83       268\n",
      "\n",
      "    accuracy                           0.79       858\n",
      "   macro avg       0.80      0.79      0.80       858\n",
      "weighted avg       0.80      0.79      0.79       858\n",
      "\n"
     ]
    }
   ],
   "source": [
    "# Training loop\n",
    "num_epochs = 4\n",
    "for epoch in range(num_epochs):\n",
    "    model.train()\n",
    "    for batch in train_dataloader:\n",
    "        input_ids, attention_mask, labels = batch\n",
    "        logits = model(input_ids, attention_mask)\n",
    "        loss = criterion(logits, torch.argmax(labels, dim=1))\n",
    "        optimizer.zero_grad()\n",
    "        loss.backward()\n",
    "        optimizer.step()\n",
    "\n",
    "# Evaluation on the test set\n",
    "model.eval()\n",
    "all_preds = []\n",
    "all_labels = []\n",
    "\n",
    "with torch.no_grad():\n",
    "    for batch in test_dataloader:\n",
    "        input_ids, attention_mask, labels = batch\n",
    "        logits = model(input_ids, attention_mask)\n",
    "        preds = torch.argmax(logits, dim=1)\n",
    "        all_preds.extend(preds.cpu().numpy())\n",
    "        all_labels.extend(torch.argmax(labels, dim=1).cpu().numpy())\n",
    "\n",
    "# Compute and print the confusion matrix and classification report\n",
    "conf_mat = confusion_matrix(all_labels, all_preds)\n",
    "class_report = classification_report(all_labels, all_preds)\n",
    "\n",
    "print(\"Confusion Matrix:\")\n",
    "print(conf_mat)\n",
    "print(\"\\nClassification Report:\")\n",
    "print(class_report)"
   ]
  },
  {
   "cell_type": "code",
   "execution_count": 15,
   "metadata": {},
   "outputs": [],
   "source": [
    "y_pred = np.array(all_preds)\n",
    "y_test = np.array(all_labels)\n"
   ]
  },
  {
   "cell_type": "code",
   "execution_count": 21,
   "metadata": {},
   "outputs": [
    {
     "data": {
      "text/plain": [
       "array([2, 1, 1, 2, 1, 1, 1, 1, 0, 2, 1, 2, 0, 1, 0, 0, 1, 2, 1, 0, 0, 1,\n",
       "       0, 2, 0, 2, 2, 1, 0, 2, 2, 0, 0, 1, 0, 1, 0, 1, 1, 1, 0, 0, 0, 0,\n",
       "       1, 0, 2, 2, 2, 1, 2, 1, 1, 1, 2, 0, 1, 0, 0, 2, 0, 2, 2, 2, 1, 0,\n",
       "       2, 2, 2, 0, 0, 2, 0, 2, 0, 1, 1, 0, 1, 0, 0, 0, 1, 0, 1, 0, 2, 2,\n",
       "       2, 2, 1, 1, 1, 1, 2, 1, 0, 2, 0, 1, 1, 0, 2, 1, 1, 2, 0, 2, 1, 0,\n",
       "       1, 1, 2, 1, 1, 1, 2, 2, 2, 0, 2, 1, 1, 0, 1, 1, 1, 0, 1, 0, 0, 1,\n",
       "       0, 0, 0, 0, 0, 1, 0, 0, 0, 0, 0, 1, 0, 0, 2, 0, 0, 1, 1, 2, 0, 1,\n",
       "       0, 1, 1, 0, 1, 2, 1, 1, 2, 0, 2, 2, 0, 2, 0, 2, 0, 2, 2, 2, 1, 2,\n",
       "       1, 0, 1, 1, 1, 2, 2, 0, 0, 1, 1, 1, 2, 1, 2, 1, 1, 1, 2, 0, 0, 0,\n",
       "       2, 0, 0, 0, 1, 1, 2, 0, 1, 2, 1, 0, 1, 2, 0, 1, 1, 0, 1, 2, 0, 0,\n",
       "       2, 0, 1, 0, 1, 2, 2, 1, 2, 1, 0, 0, 1, 0, 2, 1, 1, 1, 1, 1, 1, 1,\n",
       "       1, 0, 1, 0, 2, 1, 0, 2, 0, 1, 1, 1, 1, 2, 2, 0, 1, 0, 2, 0, 1, 1,\n",
       "       0, 2, 1, 1, 0, 2, 0, 1, 2, 0, 1, 0, 0, 0, 1, 1, 1, 1, 0, 0, 0, 1,\n",
       "       0, 1, 2, 0, 1, 0, 1, 2, 1, 0, 1, 0, 1, 1, 1, 2, 0, 1, 1, 2, 1, 2,\n",
       "       1, 2, 0, 1, 1, 1, 2, 0, 0, 1, 2, 2, 2, 2, 1, 1, 1, 1, 0, 0, 1, 2,\n",
       "       1, 2, 1, 1, 0, 1, 0, 1, 1, 0, 2, 0, 0, 0, 2, 2, 0, 0, 0, 2, 1, 0,\n",
       "       1, 1, 1, 0, 0, 1, 1, 0, 2, 2, 0, 1, 0, 1, 1, 2, 1, 0, 1, 1, 1, 2,\n",
       "       2, 0, 2, 0, 0, 2, 0, 0, 1, 1, 2, 2, 2, 1, 0, 2, 0, 2, 1, 0, 1, 2,\n",
       "       2, 1, 0, 2, 0, 1, 0, 2, 0, 0, 0, 0, 1, 2, 0, 0, 0, 2, 2, 0, 2, 1,\n",
       "       2, 2, 2, 0, 2, 2, 2, 2, 0, 1, 0, 2, 2, 0, 2, 1, 0, 2, 1, 0, 2, 0,\n",
       "       2, 0, 1, 1, 1, 0, 2, 2, 2, 2, 0, 2, 2, 1, 0, 2, 2, 0, 0, 0, 0, 2,\n",
       "       0, 2, 1, 2, 0, 2, 1, 1, 2, 2, 1, 1, 2, 1, 1, 1, 0, 0, 2, 1, 0, 1,\n",
       "       1, 1, 0, 2, 2, 1, 2, 1, 1, 2, 1, 2, 1, 1, 0, 0, 0, 1, 0, 1, 2, 1,\n",
       "       1, 0, 1, 0, 2, 1, 2, 1, 2, 1, 0, 0, 0, 1, 2, 2, 0, 0, 2, 0, 1, 2,\n",
       "       0, 0, 2, 2, 0, 0, 1, 0, 0, 1, 0, 1, 2, 1, 1, 2, 1, 2, 1, 0, 1, 2,\n",
       "       2, 0, 0, 0, 0, 1, 1, 1, 0, 1, 0, 1, 2, 0, 2, 1, 0, 0, 2, 1, 0, 1,\n",
       "       0, 1, 1, 1, 1, 2, 1, 1, 1, 1, 1, 0, 1, 1, 0, 0, 1, 2, 0, 2, 1, 0,\n",
       "       1, 1, 1, 0, 1, 2, 2, 0, 1, 0, 0, 1, 2, 0, 1, 0, 1, 0, 0, 1, 0, 0,\n",
       "       1, 0, 1, 0, 1, 0, 1, 0, 1, 2, 1, 2, 0, 0, 0, 2, 1, 2, 1, 1, 2, 1,\n",
       "       1, 1, 1, 0, 2, 1, 2, 1, 1, 0, 0, 1, 0, 1, 0, 1, 2, 0, 1, 1, 0, 0,\n",
       "       0, 0, 1, 0, 0, 1, 1, 1, 0, 1, 2, 1, 2, 1, 2, 1, 1, 0, 2, 0, 0, 0,\n",
       "       1, 2, 2, 0, 0, 2, 2, 1, 0, 2, 0, 0, 0, 2, 1, 1, 1, 0, 0, 0, 0, 0,\n",
       "       0, 2, 1, 0, 1, 2, 1, 1, 1, 0, 0, 2, 0, 0, 0, 1, 0, 0, 1, 1, 0, 2,\n",
       "       0, 1, 2, 0, 0, 0, 2, 0, 1, 0, 0, 1, 1, 0, 2, 2, 2, 0, 1, 0, 1, 2,\n",
       "       0, 1, 0, 0, 1, 1, 1, 2, 1, 1, 0, 1, 1, 0, 0, 1, 1, 2, 0, 1, 0, 2,\n",
       "       1, 1, 1, 1, 1, 0, 2, 2, 2, 0, 0, 2, 2, 0, 2, 2, 1, 2, 0, 0, 0, 1,\n",
       "       2, 1, 1, 1, 2, 0, 0, 0, 1, 0, 0, 2, 1, 2, 0, 1, 0, 2, 2, 2, 0, 2,\n",
       "       0, 0, 1, 1, 1, 1, 2, 1, 0, 2, 0, 1, 0, 1, 0, 0, 1, 2, 2, 1, 0, 1,\n",
       "       0, 1, 0, 1, 0, 2, 0, 2, 1, 0, 1, 1, 2, 1, 2, 0, 2, 0, 0, 0, 2, 2],\n",
       "      dtype=int64)"
      ]
     },
     "execution_count": 21,
     "metadata": {},
     "output_type": "execute_result"
    }
   ],
   "source": [
    "y_pred"
   ]
  },
  {
   "cell_type": "code",
   "execution_count": 23,
   "metadata": {},
   "outputs": [],
   "source": [
    "from sklearn.preprocessing import label_binarize\n",
    "from sklearn.metrics import roc_auc_score, roc_curve, auc\n",
    "\n"
   ]
  },
  {
   "cell_type": "code",
   "execution_count": 24,
   "metadata": {},
   "outputs": [
    {
     "data": {
      "image/png": "[encoded data removed]",
      "text/plain": [
       "<Figure size 576x432 with 2 Axes>"
      ]
     },
     "metadata": {},
     "output_type": "display_data"
    },
    {
     "data": {
      "image/png": "[encoded data removed]",
      "text/plain": [
       "<Figure size 576x432 with 1 Axes>"
      ]
     },
     "metadata": {},
     "output_type": "display_data"
    }
   ],
   "source": [
    "\n",
    "# ... (previous code)\n",
    "\n",
    "# Compute and plot the confusion matrix as a heatmap\n",
    "plt.figure(figsize=(8, 6))\n",
    "sns.heatmap(conf_mat, annot=True, fmt='d', cmap='Blues', xticklabels=[0, 1, 2], yticklabels=[0, 1, 2])\n",
    "plt.xlabel('Predicted Labels')\n",
    "plt.ylabel('True Labels')\n",
    "plt.title('Confusion Matrix Heatmap')\n",
    "plt.show()\n",
    "\n",
    "\n",
    "# ... (previous code)\n",
    "\n",
    "# Convert labels to one-hot encoded format\n",
    "y_test_one_hot = label_binarize(all_labels, classes=[0, 1, 2])\n",
    "y_pred_one_hot = label_binarize(all_preds, classes=[0, 1, 2])\n",
    "\n",
    "# Compute ROC curve and ROC AUC for each class\n",
    "fpr = dict()\n",
    "tpr = dict()\n",
    "roc_auc = dict()\n",
    "\n",
    "for i in range(3):  # Assuming 3 classes\n",
    "    fpr[i], tpr[i], _ = roc_curve(y_test_one_hot[:, i], y_pred_one_hot[:, i])\n",
    "    roc_auc[i] = auc(fpr[i], tpr[i])\n",
    "\n",
    "# Plot ROC curve\n",
    "plt.figure(figsize=(8, 6))\n",
    "\n",
    "for i in range(3):\n",
    "    plt.plot(fpr[i], tpr[i], label=f'Class {i} (AUC = {roc_auc[i]:.2f})')\n",
    "\n",
    "plt.plot([0, 1], [0, 1], color='gray', linestyle='--', label='Random')\n",
    "plt.xlabel('False Positive Rate')\n",
    "plt.ylabel('True Positive Rate')\n",
    "plt.title('ROC Curve')\n",
    "plt.legend()\n",
    "plt.show()\n",
    "\n"
   ]
  },
  {
   "cell_type": "code",
   "execution_count": null,
   "metadata": {},
   "outputs": [],
   "source": []
  }
 ],
 "metadata": {
  "kernelspec": {
   "display_name": "base",
   "language": "python",
   "name": "python3"
  },
  "language_info": {
   "codemirror_mode": {
    "name": "ipython",
    "version": 3
   },
   "file_extension": ".py",
   "mimetype": "text/x-python",
   "name": "python",
   "nbconvert_exporter": "python",
   "pygments_lexer": "ipython3",
   "version": "3.9.12"
  }
 },
 "nbformat": 4,
 "nbformat_minor": 2
}
